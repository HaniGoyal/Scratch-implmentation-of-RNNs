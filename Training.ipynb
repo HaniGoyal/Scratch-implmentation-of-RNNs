{
 "cells": [
  {
   "cell_type": "code",
   "execution_count": null,
   "id": "bebe038c",
   "metadata": {},
   "outputs": [],
   "source": [
    "import numpy as np\n",
    "import pandas as pd\n",
    "import matplotlib.pyplot as plt\n",
    "from tqdm import tqdm"
   ]
  },
  {
   "cell_type": "markdown",
   "id": "afb7c54f",
   "metadata": {},
   "source": [
    "Hyperparameters"
   ]
  },
  {
   "cell_type": "code",
   "execution_count": null,
   "id": "5f10e496",
   "metadata": {},
   "outputs": [],
   "source": [
    "hidden_states = 10\n",
    "period_lenth = 5\n",
    "learning_rate = 0.0001\n",
    "epochs = 100"
   ]
  },
  {
   "cell_type": "markdown",
   "id": "e829ebb5",
   "metadata": {},
   "source": [
    "Data Loading"
   ]
  },
  {
   "cell_type": "code",
   "execution_count": null,
   "id": "9a4c8e2c",
   "metadata": {},
   "outputs": [],
   "source": [
    "df = pd.read_csv('GOOGL.csv')\n",
    "\n",
    "df['Date'] = pd.to_datetime(df['Date'])\n",
    "\n",
    "# Separate training and testing data based on year\n",
    "training_df = df[df['Date'].dt.year <= 2020]\n",
    "testing_df = df[df['Date'].dt.year > 2020]"
   ]
  },
  {
   "cell_type": "code",
   "execution_count": null,
   "id": "8bc2425b",
   "metadata": {},
   "outputs": [],
   "source": [
    "training_df.info()"
   ]
  },
  {
   "cell_type": "code",
   "execution_count": null,
   "id": "21bae021",
   "metadata": {},
   "outputs": [],
   "source": [
    "plt.figure(figsize=(10, 6))\n",
    "plt.plot(np.arange(len(df['Date'])), df['Open'], label='Open', color='blue')\n",
    "plt.plot(np.arange(len(df['Date'])), df['Close'], label='Close', color='green')\n",
    "plt.plot(np.arange(len(df['Date'])), df['High'], label='High', color='red')\n",
    "plt.plot(np.arange(len(df['Date'])), df['Low'], label='Low', color='orange')\n",
    "\n",
    "plt.title('Stock Market Data')\n",
    "plt.xlabel('Days')\n",
    "plt.ylabel('Price')\n",
    "plt.legend()\n",
    "plt.grid(True)\n",
    "plt.show()"
   ]
  },
  {
   "cell_type": "markdown",
   "id": "5cfff9a7",
   "metadata": {},
   "source": [
    "Data Preprocessing"
   ]
  },
  {
   "cell_type": "code",
   "execution_count": null,
   "id": "732f4b26",
   "metadata": {},
   "outputs": [],
   "source": [
    "from sklearn.preprocessing import MinMaxScaler\n",
    "scaler = MinMaxScaler(feature_range = (0,1))\n",
    "\n",
    "features = ['Open', 'High', 'Low', 'Volume']\n",
    "traindataset = training_df[features].values\n",
    "normalized_traindataset = scaler.fit_transform(traindataset)\n",
    "testdataset = testing_df[features].values\n",
    "#print(testdataset.shape)"
   ]
  },
  {
   "cell_type": "markdown",
   "id": "c6592891",
   "metadata": {},
   "source": [
    "Preparing training and testing dataset"
   ]
  },
  {
   "cell_type": "code",
   "execution_count": null,
   "id": "8c39bb10",
   "metadata": {},
   "outputs": [],
   "source": [
    "Xtrain_scaled = []\n",
    "Xtest = []\n",
    "Ytrain_scaled = []\n",
    "Ytest = []\n",
    "Xtrain = []\n",
    "Ytrain = []\n",
    "for i in range(len(normalized_traindataset)-period_lenth):\n",
    "    trainSample = []\n",
    "    trainOutput = []\n",
    "    for j in range(i, i+period_lenth):\n",
    "        trainSample.append(normalized_traindataset[j])\n",
    "        trainOutput.append(normalized_traindataset[j+1])\n",
    "    Xtrain_scaled.append(trainSample)\n",
    "    Ytrain_scaled.append(trainOutput)\n",
    "\n",
    "for i in range(len(testdataset)-period_lenth):\n",
    "    testSample = []\n",
    "    testOutput = []\n",
    "    for j in range(i, i+period_lenth):\n",
    "        testSample.append(testdataset[j])\n",
    "        testOutput.append(testdataset[j+1])\n",
    "    Xtest.append(testSample)\n",
    "    Ytest.append(testOutput)\n",
    "\n",
    "for i in range(len(traindataset)-period_lenth):\n",
    "    trainSample = []\n",
    "    trainOutput = []\n",
    "    for j in range(i, i+period_lenth):\n",
    "        trainSample.append(traindataset[j])\n",
    "        trainOutput.append(traindataset[j+1])\n",
    "    Xtrain.append(trainSample)\n",
    "    Ytrain.append(trainOutput)\n"
   ]
  },
  {
   "cell_type": "markdown",
   "id": "c70aab2a",
   "metadata": {},
   "source": [
    "Model"
   ]
  },
  {
   "cell_type": "code",
   "execution_count": 99,
   "id": "174494f3",
   "metadata": {},
   "outputs": [],
   "source": [
    "def initializeWeights(h, iSize, oSize):\n",
    "    Whh = np.random.randn(h, h)\n",
    "    Whx = np.random.randn(h, iSize)\n",
    "    Wyh = np.random.randn(oSize, h)\n",
    "    b_h = np.random.randn(h, 1)\n",
    "    b_y = np.random.rand(oSize, 1)\n",
    "    return Whh, Whx, Wyh, b_h, b_y\n",
    "\n",
    "def sigmoid(x):\n",
    "    return 1/(1 + np.exp(-x))\n",
    "\n",
    "def evaluateCell(x_t, h_t_1, Whh, Whx, Wyh, b_h, b_y):\n",
    "    h_t = np.tanh(np.dot(Whh, h_t_1) + np.dot(Whx, x_t) + b_h)\n",
    "    y_t = sigmoid(np.dot(Wyh, h_t) + b_y)\n",
    "    return h_t, y_t\n",
    "\n",
    "def forward(x, Whh, Whx, Wyh, b_h, b_y):\n",
    "    H, y = [], []   #to store hidden states and output at each time step\n",
    "    h_t = np.zeros((hidden_states, 1))\n",
    "    for t in range(len(x)):\n",
    "        x_t = x[t].reshape(-1, 1)\n",
    "        h_t, y_t = evaluateCell(x_t, h_t, Whh, Whx, Wyh, b_h, b_y)\n",
    "        H.append(h_t)\n",
    "        y.append(y_t.reshape(4, 1))\n",
    "\n",
    "    return H, y\n",
    "\n",
    "def mse(predicted, actual):\n",
    "    loss = 0\n",
    "    n = len(predicted)\n",
    "    for i in range(len(predicted)):\n",
    "        loss += np.mean((np.transpose(actual[i]).reshape(-1, 1)-predicted[i])**2)\n",
    "    return loss/n\n",
    "\n",
    "def mse_grad(predicted, actual):\n",
    "    grads = []\n",
    "    for i in range(len(predicted)):\n",
    "        grads.append(np.transpose(actual[i]).reshape(-1, 1)-predicted[i])\n",
    "    return grads\n",
    "\n",
    "def backprop(H, y_pred, y_act, x, learning_rate, Whh, Whx, Wyh, b_h, b_y):\n",
    "    dWhh, dWhx, dWyh, db_h, db_y = np.zeros_like(Whh), np.zeros_like(Whx), np.zeros_like(Wyh), np.zeros_like(b_h), np.zeros_like(b_y)\n",
    "    grads = mse_grad(y_pred, y_act)\n",
    "    temp = np.multiply(y_pred[-1], (1-y_pred[-1]))\n",
    "    dWyh = 2*np.dot(np.multiply(grads[-1], temp), np.transpose(H[-1]))\n",
    "    db_y = 2*np.multiply(grads[-1], temp)\n",
    "\n",
    "    initProd = 2*np.multiply(np.dot(np.transpose(Wyh), np.multiply(grads[-1], temp)), 1-H[-1]**2)\n",
    "    initSum = np.transpose(x[-1].reshape(4, 1))\n",
    "    dWhx += np.dot(initProd, initSum)\n",
    "    for t in range(len(H)-1):\n",
    "        initProd = np.multiply(np.dot(np.transpose(Whh), initProd), 1-H[-2-t]**2)\n",
    "        initSum = np.transpose(x[-2-t].reshape(4, 1))\n",
    "        dWhx += np.dot(initProd, initSum)\n",
    "\n",
    "    initProd = 2*np.multiply(np.dot(np.transpose(Wyh), np.multiply(grads[-1], temp)), 1-H[-1]**2)\n",
    "    initSum = np.transpose(H[-1])\n",
    "    dWhh += np.dot(initProd, initSum)\n",
    "    for t in range(len(H)-1):\n",
    "        initProd = np.multiply(np.dot(np.transpose(Whh), initProd), 1-H[-2-t]**2)\n",
    "        initSum = np.transpose(H[-2-t])\n",
    "        dWhh += np.dot(initProd, initSum) \n",
    "\n",
    "    initProd = 2*np.multiply(np.dot(np.transpose(Wyh), np.multiply(grads[-1], temp)), 1-H[-1]**2)\n",
    "    db_h += initProd\n",
    "    for t in range(len(H)-1):\n",
    "        initProd = np.multiply(np.dot(np.transpose(Whh), initProd), 1-H[-2-t]**2)\n",
    "        db_h += initProd \n",
    "        \n",
    "    \n",
    "    Whh -= learning_rate*dWhh\n",
    "    Whx -= learning_rate*dWhx\n",
    "    Wyh -= learning_rate*dWyh\n",
    "    b_h -= learning_rate*db_h\n",
    "    b_y -= learning_rate*db_y\n",
    "    return Whh, Whx, Wyh, b_h, b_y\n",
    "\n",
    "def train(Xtrain, ytrain, epochs, learning_rate, iSize, oSize, h):\n",
    "    Whh, Whx, Wyh, b_h, b_y = initializeWeights(h, iSize, oSize)\n",
    "    for epoch in tqdm(range(epochs)):\n",
    "        loss = 0\n",
    "        for i in range(len(Xtrain)):\n",
    "            sample = Xtrain[i]\n",
    "            y_actual = ytrain[i]\n",
    "            H, y_pred = forward(sample, Whh, Whx, Wyh, b_h, b_y)\n",
    "            loss += mse(y_pred, y_actual)\n",
    "\n",
    "            Whh, Whx, Wyh, b_h, b_y = backprop(H, y_pred, y_actual, sample, learning_rate, Whh, Whx, Wyh, b_h, b_y)\n",
    "        loss = loss/len(Xtrain)  \n",
    "        print(loss)\n",
    "\n",
    "    return Whh, Whx, Wyh, b_h, b_y\n",
    "\n",
    "def test(X, y, Whh, Whx, Wyh, b_h, b_y, scaler):\n",
    "    n = len(X)\n",
    "    loss = 0\n",
    "    for i in range(len(X)):\n",
    "        sample = X[i]\n",
    "        output = y[i]\n",
    "        X_scaled = scaler.transform(np.vstack(sample))\n",
    "        _, y_pred = forward(X_scaled, Whh, Whx, Wyh, b_h, b_y)\n",
    "\n",
    "        y_scaled = scaler.transform(np.vstack(output))\n",
    "        loss += mse(y_pred, y_scaled)\n",
    "        #predictions.append(scaler.inverse_transform(y_pred[-1]))\n",
    "    loss /= n\n",
    "    return loss\n"
   ]
  },
  {
   "cell_type": "code",
   "execution_count": null,
   "id": "3e454fdf",
   "metadata": {},
   "outputs": [],
   "source": [
    "iSize = len(features)\n",
    "oSize = len(features)\n",
    "h = hidden_states\n",
    "Whh, Whx, Wyh, b_h, b_y = train(Xtrain_scaled, Ytrain_scaled, epochs, learning_rate, iSize, oSize, h)"
   ]
  },
  {
   "cell_type": "code",
   "execution_count": 100,
   "id": "1a0af93e",
   "metadata": {},
   "outputs": [
    {
     "name": "stdout",
     "output_type": "stream",
     "text": [
      "Training Loss:  0.556204614210751\n",
      "Test Loss:  0.5544050312834014\n"
     ]
    }
   ],
   "source": [
    "trainLoss = test(Xtrain, Ytrain, Whh, Whx, Wyh, b_h, b_y, scaler)\n",
    "testLoss = test(Xtest, Ytest, Whh, Whx, Wyh, b_h, b_y, scaler)\n",
    "print('Training Loss: ', trainLoss)\n",
    "print('Test Loss: ', testLoss)"
   ]
  },
  {
   "cell_type": "code",
   "execution_count": null,
   "id": "40a6d2b0",
   "metadata": {},
   "outputs": [],
   "source": []
  }
 ],
 "metadata": {
  "kernelspec": {
   "display_name": "Python 3 (ipykernel)",
   "language": "python",
   "name": "python3"
  },
  "language_info": {
   "codemirror_mode": {
    "name": "ipython",
    "version": 3
   },
   "file_extension": ".py",
   "mimetype": "text/x-python",
   "name": "python",
   "nbconvert_exporter": "python",
   "pygments_lexer": "ipython3",
   "version": "3.10.7"
  }
 },
 "nbformat": 4,
 "nbformat_minor": 5
}
